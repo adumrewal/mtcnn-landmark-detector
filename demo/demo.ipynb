{
 "cells": [
  {
   "cell_type": "code",
   "execution_count": null,
   "metadata": {},
   "outputs": [],
   "source": [
    "import os\n",
    "import sys\n",
    "import cv2\n",
    "\n",
    "# current_file_dir = os.path.dirname(os.path.abspath(__file__)) # python script.py\n",
    "current_file_dir = os.path.abspath('') # jupyter notebook\n",
    "parent_dir = os.path.dirname(current_file_dir) # path to repo\n",
    "sys.path.append(os.path.join(parent_dir, 'model'))"
   ]
  },
  {
   "cell_type": "code",
   "execution_count": null,
   "metadata": {},
   "outputs": [],
   "source": [
    "from landmark_model import FaceLandmarkModel\n",
    "\n",
    "model = FaceLandmarkModel(model_path=None)"
   ]
  },
  {
   "cell_type": "code",
   "execution_count": null,
   "metadata": {},
   "outputs": [],
   "source": []
  },
  {
   "cell_type": "code",
   "execution_count": null,
   "metadata": {},
   "outputs": [],
   "source": [
    "def plot_landmarks_on_image(image, landmarks, color=(0, 255, 0)):\n",
    "    \"\"\"Plot landmarks on image\"\"\"\n",
    "    h, w = image.shape[:2]\n",
    "    circle_size = int(w / 25)\n",
    "    for landmark in landmarks:\n",
    "        cv2.circle(image, (int(landmark[0] * w), int(landmark[1] * h)), circle_size, color, -1)\n",
    "    return image"
   ]
  },
  {
   "cell_type": "code",
   "execution_count": null,
   "metadata": {},
   "outputs": [],
   "source": [
    "data_dir = os.path.join(current_file_dir, 'data')\n",
    "face_images_dir = os.path.join(data_dir, 'face_image')\n",
    "for file in os.listdir(face_images_dir):\n",
    "    read_filepath = os.path.join(face_images_dir, file)\n",
    "    image = cv2.imread(read_filepath)\n",
    "    score, landmarks = model.face_landmarks(image)\n",
    "    \n",
    "    write_filepath = os.path.join(data_dir, 'landmark_image', file)\n",
    "    image = plot_landmarks_on_image(image, landmarks)\n",
    "    create_dir = os.path.dirname(write_filepath)\n",
    "    os.makedirs(create_dir, exist_ok=True)\n",
    "    cv2.imwrite(write_filepath, image)\n",
    "    "
   ]
  },
  {
   "cell_type": "code",
   "execution_count": null,
   "metadata": {},
   "outputs": [],
   "source": []
  }
 ],
 "metadata": {
  "kernelspec": {
   "display_name": "dlenv",
   "language": "python",
   "name": "python3"
  },
  "language_info": {
   "codemirror_mode": {
    "name": "ipython",
    "version": 3
   },
   "file_extension": ".py",
   "mimetype": "text/x-python",
   "name": "python",
   "nbconvert_exporter": "python",
   "pygments_lexer": "ipython3",
   "version": "3.9.10"
  }
 },
 "nbformat": 4,
 "nbformat_minor": 2
}
